{
 "cells": [
  {
   "cell_type": "markdown",
   "id": "2f707252-27f6-4af9-b96b-77ef22cb2e84",
   "metadata": {},
   "source": [
    "# Ques 1\n",
    "1. Classes are user-defined data types that act as the blueprint for individual objects, attributes and methods.\n",
    "2. Objects are instances of a class created with specifically defined data. Objects can correspond to real-world objects or an abstract entity. When class is defined initially, the description is the only object that is defined."
   ]
  },
  {
   "cell_type": "code",
   "execution_count": 1,
   "id": "f61c3b05-37d7-443d-bef6-5ac5fa1e70be",
   "metadata": {},
   "outputs": [],
   "source": [
    "class bird:\n",
    "    def __init__(self,name,breed):\n",
    "        self.name = name\n",
    "        self.breed = breed\n",
    "    \n",
    "    def information(self):\n",
    "        return self.name , self.breed"
   ]
  },
  {
   "cell_type": "code",
   "execution_count": 2,
   "id": "2192fcec-1144-4dcc-969f-3d19015836de",
   "metadata": {},
   "outputs": [
    {
     "data": {
      "text/plain": [
       "('meena', 'parrot')"
      ]
     },
     "execution_count": 2,
     "metadata": {},
     "output_type": "execute_result"
    }
   ],
   "source": [
    "b1 = bird('meena' , 'parrot')\n",
    "b1.information()"
   ]
  },
  {
   "cell_type": "code",
   "execution_count": 4,
   "id": "dce825e1-3ccb-4155-bb4f-493757676d74",
   "metadata": {},
   "outputs": [
    {
     "data": {
      "text/plain": [
       "('Tena', 'Humnig Bird')"
      ]
     },
     "execution_count": 4,
     "metadata": {},
     "output_type": "execute_result"
    }
   ],
   "source": [
    "b2 = bird('Tena' , 'Humnig Bird')\n",
    "b2.information()"
   ]
  },
  {
   "cell_type": "markdown",
   "id": "4ba6553f-95d3-427e-818a-1edb9fee885d",
   "metadata": {},
   "source": [
    "# Ques 2\n",
    "The four pillars of OOPs are:\n",
    "1. Encapsulation\n",
    "2. Abstraction\n",
    "3. Inheritance\n",
    "4. Polymorphism"
   ]
  },
  {
   "cell_type": "markdown",
   "id": "88f34408-3f30-4352-8c4f-4d71aa3675aa",
   "metadata": {},
   "source": [
    "# Ques 3\n",
    "__ _ _init_ _ __() function is a constructor it is genrally used to crate and assign attributes of class, When teh classs is created at that time it runs automatically and we don't need to call it "
   ]
  },
  {
   "cell_type": "code",
   "execution_count": 7,
   "id": "6e6d67fb-e67f-4ab5-a9f4-7250a82ca37f",
   "metadata": {},
   "outputs": [],
   "source": [
    "class human:\n",
    "    def __init__(self , name , height , gender):\n",
    "        self.name = name\n",
    "        self.height = height\n",
    "        self.gender = gender\n",
    "    \n",
    "    def genderOfHuman(self):\n",
    "        return self.gender"
   ]
  },
  {
   "cell_type": "code",
   "execution_count": 8,
   "id": "02b7cd49-ea59-4366-ac56-f1df54594754",
   "metadata": {},
   "outputs": [
    {
     "data": {
      "text/plain": [
       "'Male'"
      ]
     },
     "execution_count": 8,
     "metadata": {},
     "output_type": "execute_result"
    }
   ],
   "source": [
    "himanshu = human('Himanshu' , '175cm' , 'Male')\n",
    "himanshu.genderOfHuman()"
   ]
  },
  {
   "cell_type": "markdown",
   "id": "9f9aa145-8979-4cfb-8df3-185bcd06569b",
   "metadata": {},
   "source": [
    "# Ques 4\n",
    "the __self__ is used to reffer to the current instance of teh class an dalso to link all the method of a function with that class.It does not have to be named self , you can call it whatever you like, but it has to be the first parameter of any function in the class"
   ]
  },
  {
   "cell_type": "markdown",
   "id": "74704ce0-2e73-47a2-872d-40de4a3b0b18",
   "metadata": {},
   "source": [
    "# Ques 5\n",
    "___Inheritance___ = Classes can reuse code from other classes. Relationships and subclasses between objects can be assigned, enabling developers to reuse common logic while still maintaining a unique hierarchy. This property of OOP forces a more thorough data analysis, reduces development time and ensures a higher level of accuracy."
   ]
  },
  {
   "cell_type": "markdown",
   "id": "8ba5b15b-7458-4864-83b0-202e45e2d4a7",
   "metadata": {},
   "source": [
    "### Single Inheritance"
   ]
  },
  {
   "cell_type": "code",
   "execution_count": 2,
   "id": "d06fb4a0-acc2-4e5f-b5a2-11788cf7392e",
   "metadata": {},
   "outputs": [],
   "source": [
    "class A1:\n",
    "    def func1(self):\n",
    "        return 'Func1 of A1'"
   ]
  },
  {
   "cell_type": "code",
   "execution_count": 8,
   "id": "914f367f-2822-48fb-a6c0-a2fdc2d34859",
   "metadata": {},
   "outputs": [],
   "source": [
    "class A2 (A1):\n",
    "    def func2(self):\n",
    "        return 'Func2 of A2'"
   ]
  },
  {
   "cell_type": "code",
   "execution_count": 9,
   "id": "d19d1db3-83a6-4ff2-813f-e526a69ba027",
   "metadata": {},
   "outputs": [],
   "source": [
    "obj = A2()"
   ]
  },
  {
   "cell_type": "code",
   "execution_count": 10,
   "id": "4426bacc-b8a0-46e3-83e8-7f078fba7c7b",
   "metadata": {},
   "outputs": [
    {
     "data": {
      "text/plain": [
       "'Func1 of A1'"
      ]
     },
     "execution_count": 10,
     "metadata": {},
     "output_type": "execute_result"
    }
   ],
   "source": [
    "obj.func1()"
   ]
  },
  {
   "cell_type": "code",
   "execution_count": 11,
   "id": "72e225b6-846b-46f5-bfc2-e6b805a95cbb",
   "metadata": {},
   "outputs": [
    {
     "data": {
      "text/plain": [
       "'Func2 of A2'"
      ]
     },
     "execution_count": 11,
     "metadata": {},
     "output_type": "execute_result"
    }
   ],
   "source": [
    "obj.func2()"
   ]
  },
  {
   "cell_type": "markdown",
   "id": "f7848ddd-0c37-41b2-ac91-3fda3b105102",
   "metadata": {},
   "source": [
    "### Multilevel Inheritance"
   ]
  },
  {
   "cell_type": "code",
   "execution_count": 15,
   "id": "34c9ddd8-c413-482d-b7fe-f1eeb25eac23",
   "metadata": {},
   "outputs": [],
   "source": [
    "class B1:\n",
    "    def func1(self):\n",
    "        return 'Func1 of B1'"
   ]
  },
  {
   "cell_type": "code",
   "execution_count": 17,
   "id": "84d3881f-45c1-4286-8ca8-39e11985ee7b",
   "metadata": {},
   "outputs": [],
   "source": [
    "class B2 (B1):\n",
    "    def func2(self):\n",
    "        return 'Func2 of B2'"
   ]
  },
  {
   "cell_type": "code",
   "execution_count": 19,
   "id": "1c8d31ac-599c-429b-870d-9c7bd02281e9",
   "metadata": {},
   "outputs": [],
   "source": [
    "class B3 (B2):\n",
    "    def func3(self):\n",
    "        return 'Func3 of B3'"
   ]
  },
  {
   "cell_type": "code",
   "execution_count": 20,
   "id": "74133849-ee1b-4fd0-a4ea-86a7a090155e",
   "metadata": {},
   "outputs": [],
   "source": [
    "obj = B3()"
   ]
  },
  {
   "cell_type": "code",
   "execution_count": 21,
   "id": "d6a68685-6679-46d2-bc7c-6c9d700166c7",
   "metadata": {},
   "outputs": [
    {
     "data": {
      "text/plain": [
       "'Func1 of B1'"
      ]
     },
     "execution_count": 21,
     "metadata": {},
     "output_type": "execute_result"
    }
   ],
   "source": [
    "obj.func1()"
   ]
  },
  {
   "cell_type": "code",
   "execution_count": 22,
   "id": "9a1a3c30-1fab-4f6b-a0b7-8922bb40af93",
   "metadata": {},
   "outputs": [
    {
     "data": {
      "text/plain": [
       "'Func2 of B2'"
      ]
     },
     "execution_count": 22,
     "metadata": {},
     "output_type": "execute_result"
    }
   ],
   "source": [
    "obj.func2()"
   ]
  },
  {
   "cell_type": "code",
   "execution_count": 23,
   "id": "8f3f2548-bb4d-471f-be19-1b85a97e659a",
   "metadata": {},
   "outputs": [
    {
     "data": {
      "text/plain": [
       "'Func3 of B3'"
      ]
     },
     "execution_count": 23,
     "metadata": {},
     "output_type": "execute_result"
    }
   ],
   "source": [
    "obj.func3()"
   ]
  },
  {
   "cell_type": "markdown",
   "id": "bde6f498-d960-4f60-942a-548a9c3abf87",
   "metadata": {},
   "source": [
    "### Multiple Inheritance"
   ]
  },
  {
   "cell_type": "code",
   "execution_count": 25,
   "id": "16d3a3f8-fcd4-49eb-b562-df3af4f1726c",
   "metadata": {},
   "outputs": [],
   "source": [
    "class C1:\n",
    "    def func1(self):\n",
    "        return 'Func1 of C1'"
   ]
  },
  {
   "cell_type": "code",
   "execution_count": 27,
   "id": "06586813-db31-40c7-b3d1-b1945c5044ef",
   "metadata": {},
   "outputs": [],
   "source": [
    "class C2:\n",
    "    def func2(self):\n",
    "        return 'Func2 of C2'"
   ]
  },
  {
   "cell_type": "code",
   "execution_count": 28,
   "id": "7e75f15f-8dd8-4378-9336-fde0099ca623",
   "metadata": {},
   "outputs": [],
   "source": [
    "class C3 (C2 , C1):\n",
    "    def func3(self):\n",
    "        return 'Func3 of C3'"
   ]
  },
  {
   "cell_type": "code",
   "execution_count": 29,
   "id": "4169f3f1-4c5c-4cb9-ab5e-7588497ec254",
   "metadata": {},
   "outputs": [],
   "source": [
    "obj = C3()"
   ]
  },
  {
   "cell_type": "code",
   "execution_count": 30,
   "id": "01b3e9ef-4bb8-44c8-8f23-e056e13069f0",
   "metadata": {},
   "outputs": [
    {
     "data": {
      "text/plain": [
       "'Func1 of C1'"
      ]
     },
     "execution_count": 30,
     "metadata": {},
     "output_type": "execute_result"
    }
   ],
   "source": [
    "obj.func1()"
   ]
  },
  {
   "cell_type": "code",
   "execution_count": 31,
   "id": "9dbd3d76-f0fc-4f87-8004-d426fc90510a",
   "metadata": {},
   "outputs": [
    {
     "data": {
      "text/plain": [
       "'Func2 of C2'"
      ]
     },
     "execution_count": 31,
     "metadata": {},
     "output_type": "execute_result"
    }
   ],
   "source": [
    "obj.func2()"
   ]
  },
  {
   "cell_type": "code",
   "execution_count": 32,
   "id": "3eb3ca69-c690-4bfb-9643-7d55e216b558",
   "metadata": {},
   "outputs": [
    {
     "data": {
      "text/plain": [
       "'Func3 of C3'"
      ]
     },
     "execution_count": 32,
     "metadata": {},
     "output_type": "execute_result"
    }
   ],
   "source": [
    "obj.func3()"
   ]
  },
  {
   "cell_type": "markdown",
   "id": "2a5479a8-3ff8-46b1-9500-4dba396e1cea",
   "metadata": {},
   "source": [
    "### Hierarchical Inheritance"
   ]
  },
  {
   "cell_type": "code",
   "execution_count": 33,
   "id": "d00a3f57-5435-4834-8979-138740f1eb9e",
   "metadata": {},
   "outputs": [],
   "source": [
    "class D1:\n",
    "    def func1(self):\n",
    "        return 'Func1 of D1'"
   ]
  },
  {
   "cell_type": "code",
   "execution_count": 35,
   "id": "40d130e1-170c-4a60-acc3-f04dc8b5b3d1",
   "metadata": {},
   "outputs": [],
   "source": [
    "class D2 (D1):\n",
    "    def func2(self):\n",
    "        return 'Func2 of D2'"
   ]
  },
  {
   "cell_type": "code",
   "execution_count": 36,
   "id": "6ba4bd24-af4e-47e4-90f8-ee641b76630a",
   "metadata": {},
   "outputs": [],
   "source": [
    "class D3 (D1):\n",
    "    def func3(self):\n",
    "        return 'Func3 of D3'"
   ]
  },
  {
   "cell_type": "code",
   "execution_count": 37,
   "id": "59395089-57ed-419e-a099-d2f19ca194fc",
   "metadata": {},
   "outputs": [],
   "source": [
    "class D4 (D1):\n",
    "    def func4(self):\n",
    "        return 'Func4 of D4'"
   ]
  },
  {
   "cell_type": "code",
   "execution_count": 38,
   "id": "334bc539-9b40-4ad0-a73a-d7faf08bd7fb",
   "metadata": {},
   "outputs": [
    {
     "data": {
      "text/plain": [
       "'Func1 of D1'"
      ]
     },
     "execution_count": 38,
     "metadata": {},
     "output_type": "execute_result"
    }
   ],
   "source": [
    "obj1 = D2()\n",
    "obj1.func1()"
   ]
  },
  {
   "cell_type": "code",
   "execution_count": 39,
   "id": "9b0ee8be-0552-4cd2-86de-1a4983a4ae94",
   "metadata": {},
   "outputs": [
    {
     "data": {
      "text/plain": [
       "'Func1 of D1'"
      ]
     },
     "execution_count": 39,
     "metadata": {},
     "output_type": "execute_result"
    }
   ],
   "source": [
    "obj2 = D3()\n",
    "obj2.func1()"
   ]
  },
  {
   "cell_type": "code",
   "execution_count": 40,
   "id": "7bd91487-17a1-486f-9ff3-2eed4f177bd1",
   "metadata": {},
   "outputs": [
    {
     "data": {
      "text/plain": [
       "'Func1 of D1'"
      ]
     },
     "execution_count": 40,
     "metadata": {},
     "output_type": "execute_result"
    }
   ],
   "source": [
    "obj4 = D4()\n",
    "obj4.func1()"
   ]
  },
  {
   "cell_type": "markdown",
   "id": "a81bc85e-f6e7-4fdf-9329-7675f7572e3f",
   "metadata": {},
   "source": [
    "### Hybrid Inheritance"
   ]
  },
  {
   "cell_type": "code",
   "execution_count": 41,
   "id": "8eaba5e4-8940-477f-be15-14d5934af05a",
   "metadata": {},
   "outputs": [],
   "source": [
    "class School:\n",
    "    def func1(self):\n",
    "        print(\"This function is in school.\")"
   ]
  },
  {
   "cell_type": "code",
   "execution_count": 42,
   "id": "b7f898bd-ae94-4139-9d9a-3f9d0f2d02db",
   "metadata": {},
   "outputs": [],
   "source": [
    "class Student1(School):\n",
    "    def func2(self):\n",
    "        print(\"This function is in student 1. \")"
   ]
  },
  {
   "cell_type": "code",
   "execution_count": 43,
   "id": "bce519e9-33b0-428d-ba57-488f715078d7",
   "metadata": {},
   "outputs": [],
   "source": [
    "class Student2(School):\n",
    "    def func3(self):\n",
    "        print(\"This function is in student 2.\")"
   ]
  },
  {
   "cell_type": "code",
   "execution_count": 44,
   "id": "a3d49765-a747-427c-8750-f87c037be9cf",
   "metadata": {},
   "outputs": [],
   "source": [
    "class Student3(Student1, School):\n",
    "    def func4(self):\n",
    "        print(\"This function is in student 3.\")"
   ]
  },
  {
   "cell_type": "code",
   "execution_count": 45,
   "id": "29e74f67-6b8e-4a8a-b111-1d98227e7d15",
   "metadata": {},
   "outputs": [],
   "source": [
    "obj= Student3()"
   ]
  },
  {
   "cell_type": "code",
   "execution_count": 46,
   "id": "c99a1c34-4ec2-437b-9d55-a420cd5d4381",
   "metadata": {},
   "outputs": [
    {
     "name": "stdout",
     "output_type": "stream",
     "text": [
      "This function is in school.\n"
     ]
    }
   ],
   "source": [
    "obj.func1()"
   ]
  },
  {
   "cell_type": "code",
   "execution_count": 47,
   "id": "a0010803-0298-4c20-ac47-aac25455b873",
   "metadata": {},
   "outputs": [
    {
     "name": "stdout",
     "output_type": "stream",
     "text": [
      "This function is in student 1. \n"
     ]
    }
   ],
   "source": [
    "obj.func2()"
   ]
  }
 ],
 "metadata": {
  "kernelspec": {
   "display_name": "Python 3 (ipykernel)",
   "language": "python",
   "name": "python3"
  },
  "language_info": {
   "codemirror_mode": {
    "name": "ipython",
    "version": 3
   },
   "file_extension": ".py",
   "mimetype": "text/x-python",
   "name": "python",
   "nbconvert_exporter": "python",
   "pygments_lexer": "ipython3",
   "version": "3.10.8"
  }
 },
 "nbformat": 4,
 "nbformat_minor": 5
}
